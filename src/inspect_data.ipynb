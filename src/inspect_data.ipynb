{
 "cells": [
  {
   "cell_type": "code",
   "execution_count": 39,
   "metadata": {},
   "outputs": [],
   "source": [
    "from pathlib import Path\n",
    "from pprint import pformat\n",
    "\n",
    "import polars as pl"
   ]
  },
  {
   "cell_type": "code",
   "execution_count": 4,
   "metadata": {},
   "outputs": [],
   "source": [
    "DATA_DIR = Path(\"../data\")"
   ]
  },
  {
   "cell_type": "code",
   "execution_count": 65,
   "metadata": {},
   "outputs": [],
   "source": [
    "answer_df = pl.read_ndjson(DATA_DIR / \"answers.jsonl\")\n",
    "question_df = pl.read_ndjson(DATA_DIR / \"questions.jsonl\")\n",
    "rating_df = pl.read_ndjson(DATA_DIR / \"mturk_ratings.jsonl\")\n",
    "assignment_df = pl.read_ndjson(DATA_DIR / \"assignments.jsonl\")"
   ]
  },
  {
   "cell_type": "code",
   "execution_count": 82,
   "metadata": {},
   "outputs": [],
   "source": [
    "def search_questions(query: str):\n",
    "    query = query.lower()\n",
    "    return question_df.filter(\n",
    "        pl.col(\"question\").str.to_lowercase().str.contains(query)\n",
    "    )\n",
    "\n",
    "\n",
    "def search_answers(query: str):\n",
    "    query = query.lower()\n",
    "    return answer_df.filter(\n",
    "        pl.col(\"answer\").str.to_lowercase().str.contains(query)\n",
    "    )\n",
    "\n",
    "\n",
    "def print_instance(question_id: str, answer_id: str = None):\n",
    "    question = question_df.filter(pl.col(\"question_id\") == question_id).row(\n",
    "        0, named=True\n",
    "    )[\"question\"]\n",
    "    print(f\"## Question:\\n{question}\\n\")\n",
    "\n",
    "    answers = answer_df.filter(pl.col(\"question_id\") == question_id)\n",
    "    for answer in answers.iter_rows(named=True):\n",
    "        print(\n",
    "            f\"### Answer ID: {answer['answer_id']} (score: {answer['answer_score']})\"\n",
    "        )\n",
    "\n",
    "        answer_str = answer[\"answer\"].replace(\"<br>\", \"\\n\")\n",
    "        print(f\"{pformat(answer_str)}\\n\")\n",
    "\n",
    "        print(\"#### Ratings:\")\n",
    "\n",
    "        ratings = rating_df.filter(pl.col(\"answer_id\") == answer[\"answer_id\"]).sort(\"assignment_id\")\n",
    "        print(\"assignment_id\\t\\t\\tFact\\tInfo\\tForm\\tAcce\\tPref\")\n",
    "        for rating in ratings.iter_rows(named=True):\n",
    "            print(\n",
    "                f\"{rating['assignment_id']}\\t{rating['factuality']}\\t\"\n",
    "                f\"{rating['amountInfo']}\\t{rating['formality']}\\t\"\n",
    "                f\"{rating['acceptability']}\\t{rating['preference']}\"\n",
    "            )\n",
    "\n",
    "        print(\"\\n\")\n",
    "\n",
    "    assignment_ids = ratings.get_column(\"assignment_id\").unique().to_list()\n",
    "    print(\"### Reason of preference:\")\n",
    "    for assignment_id in sorted(assignment_ids):\n",
    "        assignment = assignment_df.filter(\n",
    "            pl.col(\"assignment_id\") == assignment_id\n",
    "        ).row(0, named=True)\n",
    "        print(assignment_id, assignment[\"Answer.reason_of_preference\"])"
   ]
  },
  {
   "cell_type": "code",
   "execution_count": 83,
   "metadata": {},
   "outputs": [
    {
     "data": {
      "text/html": [
       "<div><style>\n",
       ".dataframe > thead > tr,\n",
       ".dataframe > tbody > tr {\n",
       "  text-align: right;\n",
       "  white-space: pre-wrap;\n",
       "}\n",
       "</style>\n",
       "<small>shape: (1, 2)</small><table border=\"1\" class=\"dataframe\"><thead><tr><th>question_id</th><th>question</th></tr><tr><td>str</td><td>str</td></tr></thead><tbody><tr><td>&quot;1fflvw&quot;</td><td>&quot;- Why do we hate our own voice…</td></tr></tbody></table></div>"
      ],
      "text/plain": [
       "shape: (1, 2)\n",
       "┌─────────────┬─────────────────────────────────┐\n",
       "│ question_id ┆ question                        │\n",
       "│ ---         ┆ ---                             │\n",
       "│ str         ┆ str                             │\n",
       "╞═════════════╪═════════════════════════════════╡\n",
       "│ 1fflvw      ┆ - Why do we hate our own voice… │\n",
       "└─────────────┴─────────────────────────────────┘"
      ]
     },
     "execution_count": 83,
     "metadata": {},
     "output_type": "execute_result"
    }
   ],
   "source": [
    "search_questions(\"why do we hate\")"
   ]
  },
  {
   "cell_type": "code",
   "execution_count": 85,
   "metadata": {},
   "outputs": [
    {
     "name": "stdout",
     "output_type": "stream",
     "text": [
      "## Question:\n",
      "- Why do we hate our own voice when we hear it recorded?\n",
      "\n",
      "### Answer ID: chatgpt-formal-1fflvw (score: None)\n",
      "('We perceive our voice differently when we hear it on a recording because we '\n",
      " 'are not used to hearing it from that perspective. When we speak, we hear our '\n",
      " 'voice through the bones in our skull as well as through the air, which '\n",
      " 'creates a richer, deeper tone. However, when we hear a recording of our '\n",
      " 'voice, we only hear it through the air, resulting in a higher-pitched sound '\n",
      " 'that we may not like. Additionally, some people may be self-conscious about '\n",
      " 'their voice because they associate it with how they look or their image of '\n",
      " 'themselves.')\n",
      "\n",
      "#### Ratings:\n",
      "assignment_id\t\t\tFact\tInfo\tForm\tAcce\tPref\n",
      "31LVTDXBLAB0HNGMIMU5ML1NVB3LRO\t3\t0\t0\t3\t1\n",
      "33L7PJKHCJZIIV9VSMQWHVGZZW28T3\t2\t0\t1\t3\t0\n",
      "3SNVL38CI7TLRF9LFPS9IQPM6AVKCE\t3\t0\t0\t3\t1\n",
      "\n",
      "\n",
      "### Answer ID: ca9sd6w (score: 18.0)\n",
      "('When you hear your voice normally, you hear a sound transmitted through the '\n",
      " 'air just like everyone else hears... but you also hear some of the sound '\n",
      " 'transmitted through your jaw and skull. Since bone transits sound very '\n",
      " 'differently to air, the way you hear your own voice is different to how '\n",
      " 'everyone else hears it.\\n'\n",
      " '\\n'\n",
      " 'When your voice is recoded and played back, you hear the sound as everyone '\n",
      " 'else does, transmitted through air, and not through bone.\\n'\n",
      " '\\n'\n",
      " \"I doubt that *everyone* **hates** their voice when it's recorded, but they \"\n",
      " \"certainly find it strange. And if you do hate your voice, then it's only \"\n",
      " 'because of the strangeness - because it sounds different to the way you '\n",
      " 'normally hear your voice.')\n",
      "\n",
      "#### Ratings:\n",
      "assignment_id\t\t\tFact\tInfo\tForm\tAcce\tPref\n",
      "31LVTDXBLAB0HNGMIMU5ML1NVB3LRO\t2\t0\t-1\t2\t0\n",
      "33L7PJKHCJZIIV9VSMQWHVGZZW28T3\t2\t1\t1\t3\t1\n",
      "3SNVL38CI7TLRF9LFPS9IQPM6AVKCE\t2\t0\t-1\t2\t0\n",
      "\n",
      "\n",
      "### Answer ID: chatgpt-casual-1fflvw (score: None)\n",
      "('Have you ever listened to a recording of your own voice and cringed at the '\n",
      " \"sound of it? Well, you're not alone. The reason why we hate the sound of our \"\n",
      " 'own voice is because when we talk, the soundwaves from our voice travel '\n",
      " 'through our skull and jawbone, creating vibrations that add depth and '\n",
      " 'resonance to the sound. However, when we hear a recording of ourselves, we '\n",
      " \"don't get the added depth and resonance, making our voice sound different \"\n",
      " 'and unfamiliar. Additionally, we are used to hearing our own voice from '\n",
      " 'inside our head, so when we hear it recorded, it can sound strange and '\n",
      " \"uncomfortable. So, don't worry, it's a completely normal phenomenon!\")\n",
      "\n",
      "#### Ratings:\n",
      "assignment_id\t\t\tFact\tInfo\tForm\tAcce\tPref\n",
      "31LVTDXBLAB0HNGMIMU5ML1NVB3LRO\t3\t0\t0\t3\t0\n",
      "33L7PJKHCJZIIV9VSMQWHVGZZW28T3\t2\t1\t0\t3\t0\n",
      "3SNVL38CI7TLRF9LFPS9IQPM6AVKCE\t3\t0\t0\t3\t0\n",
      "\n",
      "\n",
      "### Answer ID: ca9schi (score: 6.0)\n",
      "(\"When you hear yourself as you speak, you're also hearing the vibrations \"\n",
      " 'echoing around in your skull.  That changes the way your voice sounds, '\n",
      " \"compared to recording it.  You're just not used to hearing yourself sound so \"\n",
      " 'different.')\n",
      "\n",
      "#### Ratings:\n",
      "assignment_id\t\t\tFact\tInfo\tForm\tAcce\tPref\n",
      "31LVTDXBLAB0HNGMIMU5ML1NVB3LRO\t2\t-1\t0\t1\t0\n",
      "33L7PJKHCJZIIV9VSMQWHVGZZW28T3\t1\t-1\t-1\t2\t0\n",
      "3SNVL38CI7TLRF9LFPS9IQPM6AVKCE\t2\t-1\t-1\t0\t0\n",
      "\n",
      "\n",
      "### Reason of preference:\n",
      "31LVTDXBLAB0HNGMIMU5ML1NVB3LRO Candidate 0 has a good balance of scientific information with easy to understand language and difference explanations are offered, all which are valid.\n",
      "33L7PJKHCJZIIV9VSMQWHVGZZW28T3 Bone transits sound very differently sounds everyone hear it.\n",
      "3SNVL38CI7TLRF9LFPS9IQPM6AVKCE I liked candidate 0 over my second choice candidate 2 because he just included the explanation without any excess enthusiasm.\n"
     ]
    }
   ],
   "source": [
    "print_instance(question_id=\"1fflvw\")"
   ]
  }
 ],
 "metadata": {
  "kernelspec": {
   "display_name": ".venv",
   "language": "python",
   "name": "python3"
  },
  "language_info": {
   "codemirror_mode": {
    "name": "ipython",
    "version": 3
   },
   "file_extension": ".py",
   "mimetype": "text/x-python",
   "name": "python",
   "nbconvert_exporter": "python",
   "pygments_lexer": "ipython3",
   "version": "3.11.10"
  }
 },
 "nbformat": 4,
 "nbformat_minor": 2
}
